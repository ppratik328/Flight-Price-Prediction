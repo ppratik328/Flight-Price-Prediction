{
 "cells": [
  {
   "cell_type": "code",
   "execution_count": 1,
   "id": "d2061879",
   "metadata": {},
   "outputs": [],
   "source": [
    "# type your code here\n",
    "# import 'Pandas' \n",
    "import pandas as pd \n",
    "\n",
    "# import 'Numpy' \n",
    "import numpy as np\n",
    "\n",
    "# import subpackage of Matplotlib\n",
    "import matplotlib.pyplot as plt\n",
    "\n",
    "# import 'Seaborn' \n",
    "import seaborn as sns\n",
    "\n",
    "# to suppress warnings \n",
    "from warnings import filterwarnings\n",
    "filterwarnings('ignore')\n",
    "\n",
    "# display all columns of the dataframe\n",
    "pd.options.display.max_columns = None\n",
    "\n",
    "# display all rows of the dataframe\n",
    "pd.options.display.max_rows = None\n",
    " \n",
    "# to display the float values upto 6 decimal places     \n",
    "pd.options.display.float_format = '{:.6f}'.format\n",
    "\n",
    "from sklearn.preprocessing import StandardScaler\n",
    "\n",
    "# import train-test split \n",
    "from sklearn.model_selection import train_test_split\n",
    "\n",
    "# import various functions from statsmodel to perform linear regression\n",
    "import statsmodels\n",
    "import statsmodels.api as sm\n",
    "import statsmodels.stats.api as sms\n",
    "from statsmodels.compat import lzip\n",
    "from statsmodels.stats.outliers_influence import variance_inflation_factor\n",
    "from statsmodels.tools.eval_measures import rmse\n",
    "\n",
    "# import various functions from scipy\n",
    "from scipy import stats\n",
    "from scipy.stats import shapiro\n",
    "\n",
    "# 'metrics' from sklearn is used for evaluating the model performance\n",
    "from sklearn.metrics import mean_absolute_error\n",
    "from sklearn.metrics import mean_squared_error\n",
    "\n",
    "from sklearn.model_selection import cross_val_score\n",
    "from sklearn.linear_model import LinearRegression\n",
    "from sklearn.linear_model import ElasticNet\n",
    "\n",
    "from sklearn import neighbors\n",
    "from sklearn.metrics import mean_squared_error \n",
    "from math import sqrt"
   ]
  },
  {
   "cell_type": "code",
   "execution_count": 2,
   "id": "2f45e8de",
   "metadata": {},
   "outputs": [],
   "source": [
    "df=pd.read_csv('Train_Data_Final.csv')\n",
    "#df.head()"
   ]
  },
  {
   "cell_type": "code",
   "execution_count": 3,
   "id": "9f07f584",
   "metadata": {},
   "outputs": [
    {
     "data": {
      "text/html": [
       "<div>\n",
       "<style scoped>\n",
       "    .dataframe tbody tr th:only-of-type {\n",
       "        vertical-align: middle;\n",
       "    }\n",
       "\n",
       "    .dataframe tbody tr th {\n",
       "        vertical-align: top;\n",
       "    }\n",
       "\n",
       "    .dataframe thead th {\n",
       "        text-align: right;\n",
       "    }\n",
       "</style>\n",
       "<table border=\"1\" class=\"dataframe\">\n",
       "  <thead>\n",
       "    <tr style=\"text-align: right;\">\n",
       "      <th></th>\n",
       "      <th>Total_Stops</th>\n",
       "      <th>Additional_Info</th>\n",
       "      <th>Price</th>\n",
       "      <th>Day</th>\n",
       "      <th>Month</th>\n",
       "      <th>Year</th>\n",
       "      <th>Arrival_Time_hr</th>\n",
       "      <th>Arrival_Time_min</th>\n",
       "      <th>Dep_Time_hr</th>\n",
       "      <th>Dep_Time_min</th>\n",
       "      <th>Duration_hr</th>\n",
       "      <th>Duration_min</th>\n",
       "      <th>Total_Duration</th>\n",
       "    </tr>\n",
       "  </thead>\n",
       "  <tbody>\n",
       "    <tr>\n",
       "      <th>0</th>\n",
       "      <td>0</td>\n",
       "      <td>0</td>\n",
       "      <td>3897.000000</td>\n",
       "      <td>24</td>\n",
       "      <td>3</td>\n",
       "      <td>2019</td>\n",
       "      <td>1</td>\n",
       "      <td>10</td>\n",
       "      <td>22</td>\n",
       "      <td>20</td>\n",
       "      <td>2</td>\n",
       "      <td>50</td>\n",
       "      <td>170.000000</td>\n",
       "    </tr>\n",
       "    <tr>\n",
       "      <th>1</th>\n",
       "      <td>2</td>\n",
       "      <td>0</td>\n",
       "      <td>7662.000000</td>\n",
       "      <td>5</td>\n",
       "      <td>1</td>\n",
       "      <td>2019</td>\n",
       "      <td>13</td>\n",
       "      <td>15</td>\n",
       "      <td>5</td>\n",
       "      <td>50</td>\n",
       "      <td>7</td>\n",
       "      <td>25</td>\n",
       "      <td>445.000000</td>\n",
       "    </tr>\n",
       "    <tr>\n",
       "      <th>2</th>\n",
       "      <td>2</td>\n",
       "      <td>0</td>\n",
       "      <td>13882.000000</td>\n",
       "      <td>6</td>\n",
       "      <td>9</td>\n",
       "      <td>2019</td>\n",
       "      <td>4</td>\n",
       "      <td>25</td>\n",
       "      <td>9</td>\n",
       "      <td>25</td>\n",
       "      <td>19</td>\n",
       "      <td>0</td>\n",
       "      <td>1140.000000</td>\n",
       "    </tr>\n",
       "    <tr>\n",
       "      <th>3</th>\n",
       "      <td>1</td>\n",
       "      <td>0</td>\n",
       "      <td>6218.000000</td>\n",
       "      <td>5</td>\n",
       "      <td>12</td>\n",
       "      <td>2019</td>\n",
       "      <td>23</td>\n",
       "      <td>30</td>\n",
       "      <td>18</td>\n",
       "      <td>5</td>\n",
       "      <td>5</td>\n",
       "      <td>25</td>\n",
       "      <td>325.000000</td>\n",
       "    </tr>\n",
       "    <tr>\n",
       "      <th>4</th>\n",
       "      <td>1</td>\n",
       "      <td>0</td>\n",
       "      <td>13302.000000</td>\n",
       "      <td>3</td>\n",
       "      <td>1</td>\n",
       "      <td>2019</td>\n",
       "      <td>21</td>\n",
       "      <td>35</td>\n",
       "      <td>16</td>\n",
       "      <td>50</td>\n",
       "      <td>4</td>\n",
       "      <td>45</td>\n",
       "      <td>285.000000</td>\n",
       "    </tr>\n",
       "  </tbody>\n",
       "</table>\n",
       "</div>"
      ],
      "text/plain": [
       "   Total_Stops  Additional_Info        Price  Day  Month  Year  \\\n",
       "0            0                0  3897.000000   24      3  2019   \n",
       "1            2                0  7662.000000    5      1  2019   \n",
       "2            2                0 13882.000000    6      9  2019   \n",
       "3            1                0  6218.000000    5     12  2019   \n",
       "4            1                0 13302.000000    3      1  2019   \n",
       "\n",
       "   Arrival_Time_hr  Arrival_Time_min  Dep_Time_hr  Dep_Time_min  Duration_hr  \\\n",
       "0                1                10           22            20            2   \n",
       "1               13                15            5            50            7   \n",
       "2                4                25            9            25           19   \n",
       "3               23                30           18             5            5   \n",
       "4               21                35           16            50            4   \n",
       "\n",
       "   Duration_min  Total_Duration  \n",
       "0            50      170.000000  \n",
       "1            25      445.000000  \n",
       "2             0     1140.000000  \n",
       "3            25      325.000000  \n",
       "4            45      285.000000  "
      ]
     },
     "execution_count": 3,
     "metadata": {},
     "output_type": "execute_result"
    }
   ],
   "source": [
    "df_num=df.select_dtypes(np.number)\n",
    "df_num.head()"
   ]
  },
  {
   "cell_type": "code",
   "execution_count": 4,
   "id": "99ce3891",
   "metadata": {},
   "outputs": [
    {
     "data": {
      "text/plain": [
       "2019    10682\n",
       "Name: Year, dtype: int64"
      ]
     },
     "execution_count": 4,
     "metadata": {},
     "output_type": "execute_result"
    }
   ],
   "source": [
    "df_num.Year.value_counts()"
   ]
  },
  {
   "cell_type": "code",
   "execution_count": 5,
   "id": "bdd18d99",
   "metadata": {},
   "outputs": [],
   "source": [
    "df_num=df_num.drop('Year',axis=1)"
   ]
  },
  {
   "cell_type": "code",
   "execution_count": 6,
   "id": "359aa92c",
   "metadata": {},
   "outputs": [],
   "source": [
    "dummies=pd.get_dummies(df[['Airline', 'Source', 'Destination']],drop_first=True)"
   ]
  },
  {
   "cell_type": "code",
   "execution_count": 7,
   "id": "85272adc",
   "metadata": {},
   "outputs": [
    {
     "data": {
      "text/plain": [
       "(10682, 29)"
      ]
     },
     "execution_count": 7,
     "metadata": {},
     "output_type": "execute_result"
    }
   ],
   "source": [
    "df2 = pd.concat([df_num,dummies], axis=1)\n",
    "df2.shape"
   ]
  },
  {
   "cell_type": "code",
   "execution_count": 8,
   "id": "d5f6390c",
   "metadata": {},
   "outputs": [],
   "source": [
    "X=df2.drop('Price',axis=1)\n",
    "Y=df2['Price']"
   ]
  },
  {
   "cell_type": "code",
   "execution_count": 9,
   "id": "99840df5",
   "metadata": {},
   "outputs": [
    {
     "data": {
      "text/plain": [
       "(10682, 28)"
      ]
     },
     "execution_count": 9,
     "metadata": {},
     "output_type": "execute_result"
    }
   ],
   "source": [
    "X.shape"
   ]
  },
  {
   "cell_type": "code",
   "execution_count": 10,
   "id": "fd62b221",
   "metadata": {},
   "outputs": [],
   "source": [
    "SS=StandardScaler()\n",
    "X_scaled=pd.DataFrame(SS.fit_transform(X),columns=X.columns)"
   ]
  },
  {
   "cell_type": "code",
   "execution_count": 11,
   "id": "cacd66a9",
   "metadata": {},
   "outputs": [
    {
     "data": {
      "text/plain": [
       "(10682, 29)"
      ]
     },
     "execution_count": 11,
     "metadata": {},
     "output_type": "execute_result"
    }
   ],
   "source": [
    "X_scaled=sm.add_constant(X_scaled)\n",
    "X_scaled.shape"
   ]
  },
  {
   "cell_type": "code",
   "execution_count": 12,
   "id": "f18b6c14",
   "metadata": {},
   "outputs": [],
   "source": [
    "X_train, X_test, y_train, y_test=train_test_split(X_scaled,Y,random_state=1,test_size=0.30)"
   ]
  },
  {
   "cell_type": "code",
   "execution_count": 13,
   "id": "82421833",
   "metadata": {},
   "outputs": [
    {
     "name": "stdout",
     "output_type": "stream",
     "text": [
      "(7477, 29)\n",
      "(3205, 29)\n",
      "(7477,)\n",
      "(3205,)\n"
     ]
    }
   ],
   "source": [
    "print(X_train.shape) \n",
    "print(X_test.shape)\n",
    "print(y_train.shape)\n",
    "print(y_test.shape)"
   ]
  },
  {
   "cell_type": "markdown",
   "id": "889dd2b0",
   "metadata": {},
   "source": [
    "### Linear Regression Full Model "
   ]
  },
  {
   "cell_type": "code",
   "execution_count": 14,
   "id": "29ada703",
   "metadata": {},
   "outputs": [],
   "source": [
    "MLR_full_model = sm.OLS(y_train, X_train).fit()"
   ]
  },
  {
   "cell_type": "code",
   "execution_count": 15,
   "id": "98f5eb9a",
   "metadata": {},
   "outputs": [
    {
     "name": "stdout",
     "output_type": "stream",
     "text": [
      "                            OLS Regression Results                            \n",
      "==============================================================================\n",
      "Dep. Variable:                  Price   R-squared:                       0.641\n",
      "Model:                            OLS   Adj. R-squared:                  0.640\n",
      "Method:                 Least Squares   F-statistic:                     554.9\n",
      "Date:                Sun, 27 Mar 2022   Prob (F-statistic):               0.00\n",
      "Time:                        14:48:11   Log-Likelihood:                -69295.\n",
      "No. Observations:                7477   AIC:                         1.386e+05\n",
      "Df Residuals:                    7452   BIC:                         1.388e+05\n",
      "Df Model:                          24                                         \n",
      "Covariance Type:            nonrobust                                         \n",
      "=============================================================================================\n",
      "                                coef    std err          t      P>|t|      [0.025      0.975]\n",
      "---------------------------------------------------------------------------------------------\n",
      "const                      9042.0900     29.699    304.453      0.000    8983.871    9100.309\n",
      "Total_Stops                1740.2153     53.301     32.649      0.000    1635.730    1844.701\n",
      "Additional_Info            -624.3882     33.688    -18.534      0.000    -690.426    -558.350\n",
      "Day                        -640.6831     31.297    -20.471      0.000    -702.034    -579.332\n",
      "Month                      -232.6304     31.279     -7.437      0.000    -293.946    -171.315\n",
      "Arrival_Time_hr             -86.7154     30.911     -2.805      0.005    -147.310     -26.121\n",
      "Arrival_Time_min             75.0605     31.649      2.372      0.018      13.019     137.102\n",
      "Dep_Time_hr                  89.6250     30.779      2.912      0.004      29.290     149.960\n",
      "Dep_Time_min                -23.4037     31.200     -0.750      0.453     -84.564      37.756\n",
      "Duration_hr               -1589.9095    769.354     -2.067      0.039   -3098.061     -81.758\n",
      "Duration_min                -39.6040     42.128     -0.940      0.347    -122.187      42.979\n",
      "Total_Duration             1661.2415    769.976      2.158      0.031     151.871    3170.612\n",
      "Airline_Air India           663.5443     74.420      8.916      0.000     517.661     809.428\n",
      "Airline_GoAir                14.8988     37.160      0.401      0.688     -57.946      87.744\n",
      "Airline_IndiGo               97.8470     75.363      1.298      0.194     -49.885     245.579\n",
      "Airline_Jet Airways        2327.1794     92.261     25.224      0.000    2146.321    2508.037\n",
      "Airline_Multiple carriers  1189.8905     66.158     17.986      0.000    1060.202    1319.579\n",
      "Airline_SpiceJet            167.0865     56.962      2.933      0.003      55.426     278.747\n",
      "Airline_Trujet              -18.8346     24.947     -0.755      0.450     -67.738      30.069\n",
      "Airline_Vistara             422.7600     47.647      8.873      0.000     329.358     516.162\n",
      "Source_Chennai                3.0301     15.282      0.198      0.843     -26.926      32.986\n",
      "Source_Delhi                 23.1328     15.808      1.463      0.143      -7.855      54.120\n",
      "Source_Kolkata              -40.8771     21.165     -1.931      0.053     -82.366       0.612\n",
      "Source_Mumbai              -202.0465     15.170    -13.319      0.000    -231.784    -172.309\n",
      "Destination_Cochin           23.1328     15.808      1.463      0.143      -7.855      54.120\n",
      "Destination_Delhi          -336.5646     29.081    -11.574      0.000    -393.571    -279.559\n",
      "Destination_Hyderabad      -202.0465     15.170    -13.319      0.000    -231.784    -172.309\n",
      "Destination_Kolkata           3.0301     15.282      0.198      0.843     -26.926      32.986\n",
      "Destination_New Delhi       583.8798     26.458     22.068      0.000     532.015     635.745\n",
      "==============================================================================\n",
      "Omnibus:                     1509.919   Durbin-Watson:                   2.015\n",
      "Prob(Omnibus):                  0.000   Jarque-Bera (JB):             5101.921\n",
      "Skew:                           1.006   Prob(JB):                         0.00\n",
      "Kurtosis:                       6.511   Cond. No.                     1.27e+16\n",
      "==============================================================================\n",
      "\n",
      "Notes:\n",
      "[1] Standard Errors assume that the covariance matrix of the errors is correctly specified.\n",
      "[2] The smallest eigenvalue is 2.04e-28. This might indicate that there are\n",
      "strong multicollinearity problems or that the design matrix is singular.\n"
     ]
    }
   ],
   "source": [
    "print(MLR_full_model.summary())"
   ]
  },
  {
   "cell_type": "code",
   "execution_count": 16,
   "id": "8b7cf532",
   "metadata": {},
   "outputs": [
    {
     "data": {
      "text/html": [
       "<div>\n",
       "<style scoped>\n",
       "    .dataframe tbody tr th:only-of-type {\n",
       "        vertical-align: middle;\n",
       "    }\n",
       "\n",
       "    .dataframe tbody tr th {\n",
       "        vertical-align: top;\n",
       "    }\n",
       "\n",
       "    .dataframe thead th {\n",
       "        text-align: right;\n",
       "    }\n",
       "</style>\n",
       "<table border=\"1\" class=\"dataframe\">\n",
       "  <thead>\n",
       "    <tr style=\"text-align: right;\">\n",
       "      <th></th>\n",
       "      <th>pval</th>\n",
       "    </tr>\n",
       "  </thead>\n",
       "  <tbody>\n",
       "    <tr>\n",
       "      <th>const</th>\n",
       "      <td>0.000000</td>\n",
       "    </tr>\n",
       "    <tr>\n",
       "      <th>Total_Stops</th>\n",
       "      <td>0.000000</td>\n",
       "    </tr>\n",
       "    <tr>\n",
       "      <th>Additional_Info</th>\n",
       "      <td>0.000000</td>\n",
       "    </tr>\n",
       "    <tr>\n",
       "      <th>Day</th>\n",
       "      <td>0.000000</td>\n",
       "    </tr>\n",
       "    <tr>\n",
       "      <th>Month</th>\n",
       "      <td>0.000000</td>\n",
       "    </tr>\n",
       "    <tr>\n",
       "      <th>Arrival_Time_hr</th>\n",
       "      <td>0.005040</td>\n",
       "    </tr>\n",
       "    <tr>\n",
       "      <th>Arrival_Time_min</th>\n",
       "      <td>0.017736</td>\n",
       "    </tr>\n",
       "    <tr>\n",
       "      <th>Dep_Time_hr</th>\n",
       "      <td>0.003603</td>\n",
       "    </tr>\n",
       "    <tr>\n",
       "      <th>Duration_hr</th>\n",
       "      <td>0.038811</td>\n",
       "    </tr>\n",
       "    <tr>\n",
       "      <th>Total_Duration</th>\n",
       "      <td>0.030997</td>\n",
       "    </tr>\n",
       "    <tr>\n",
       "      <th>Airline_Air India</th>\n",
       "      <td>0.000000</td>\n",
       "    </tr>\n",
       "    <tr>\n",
       "      <th>Airline_Jet Airways</th>\n",
       "      <td>0.000000</td>\n",
       "    </tr>\n",
       "    <tr>\n",
       "      <th>Airline_Multiple carriers</th>\n",
       "      <td>0.000000</td>\n",
       "    </tr>\n",
       "    <tr>\n",
       "      <th>Airline_SpiceJet</th>\n",
       "      <td>0.003364</td>\n",
       "    </tr>\n",
       "    <tr>\n",
       "      <th>Airline_Vistara</th>\n",
       "      <td>0.000000</td>\n",
       "    </tr>\n",
       "    <tr>\n",
       "      <th>Source_Mumbai</th>\n",
       "      <td>0.000000</td>\n",
       "    </tr>\n",
       "    <tr>\n",
       "      <th>Destination_Delhi</th>\n",
       "      <td>0.000000</td>\n",
       "    </tr>\n",
       "    <tr>\n",
       "      <th>Destination_Hyderabad</th>\n",
       "      <td>0.000000</td>\n",
       "    </tr>\n",
       "    <tr>\n",
       "      <th>Destination_New Delhi</th>\n",
       "      <td>0.000000</td>\n",
       "    </tr>\n",
       "  </tbody>\n",
       "</table>\n",
       "</div>"
      ],
      "text/plain": [
       "                              pval\n",
       "const                     0.000000\n",
       "Total_Stops               0.000000\n",
       "Additional_Info           0.000000\n",
       "Day                       0.000000\n",
       "Month                     0.000000\n",
       "Arrival_Time_hr           0.005040\n",
       "Arrival_Time_min          0.017736\n",
       "Dep_Time_hr               0.003603\n",
       "Duration_hr               0.038811\n",
       "Total_Duration            0.030997\n",
       "Airline_Air India         0.000000\n",
       "Airline_Jet Airways       0.000000\n",
       "Airline_Multiple carriers 0.000000\n",
       "Airline_SpiceJet          0.003364\n",
       "Airline_Vistara           0.000000\n",
       "Source_Mumbai             0.000000\n",
       "Destination_Delhi         0.000000\n",
       "Destination_Hyderabad     0.000000\n",
       "Destination_New Delhi     0.000000"
      ]
     },
     "execution_count": 16,
     "metadata": {},
     "output_type": "execute_result"
    }
   ],
   "source": [
    "var=pd.DataFrame(MLR_full_model.pvalues,columns=['pval'])\n",
    "significant_var=var[var['pval'] < 0.05]\n",
    "significant_var"
   ]
  },
  {
   "cell_type": "markdown",
   "id": "d7133d8f",
   "metadata": {},
   "source": [
    "### Linear Regression (significant variables)"
   ]
  },
  {
   "cell_type": "code",
   "execution_count": 17,
   "id": "8cdf0c1b",
   "metadata": {},
   "outputs": [],
   "source": [
    "X_signi=X_scaled[significant_var.index]"
   ]
  },
  {
   "cell_type": "code",
   "execution_count": 18,
   "id": "5538fbc2",
   "metadata": {},
   "outputs": [],
   "source": [
    "X_train, X_test, y_train, y_test=train_test_split(X_signi,Y,random_state=1,test_size=0.30)"
   ]
  },
  {
   "cell_type": "code",
   "execution_count": 19,
   "id": "e06f6f36",
   "metadata": {},
   "outputs": [
    {
     "name": "stdout",
     "output_type": "stream",
     "text": [
      "                            OLS Regression Results                            \n",
      "==============================================================================\n",
      "Dep. Variable:                  Price   R-squared:                       0.641\n",
      "Model:                            OLS   Adj. R-squared:                  0.640\n",
      "Method:                 Least Squares   F-statistic:                     782.5\n",
      "Date:                Sun, 27 Mar 2022   Prob (F-statistic):               0.00\n",
      "Time:                        14:48:11   Log-Likelihood:                -69300.\n",
      "No. Observations:                7477   AIC:                         1.386e+05\n",
      "Df Residuals:                    7459   BIC:                         1.388e+05\n",
      "Df Model:                          17                                         \n",
      "Covariance Type:            nonrobust                                         \n",
      "=============================================================================================\n",
      "                                coef    std err          t      P>|t|      [0.025      0.975]\n",
      "---------------------------------------------------------------------------------------------\n",
      "const                      9041.2711     29.701    304.411      0.000    8983.049    9099.493\n",
      "Total_Stops                1758.7669     50.052     35.139      0.000    1660.651    1856.882\n",
      "Additional_Info            -624.5555     33.678    -18.545      0.000    -690.573    -558.538\n",
      "Day                        -634.7087     31.176    -20.359      0.000    -695.822    -573.595\n",
      "Month                      -234.7020     31.262     -7.508      0.000    -295.984    -173.420\n",
      "Arrival_Time_hr             -94.6259     30.649     -3.087      0.002    -154.706     -34.545\n",
      "Arrival_Time_min             59.3861     31.019      1.915      0.056      -1.420     120.192\n",
      "Dep_Time_hr                  85.5203     30.538      2.800      0.005      25.658     145.383\n",
      "Duration_hr                -971.5231    577.191     -1.683      0.092   -2102.980     159.934\n",
      "Total_Duration             1036.8506    577.296      1.796      0.073     -94.813    2168.514\n",
      "Airline_Air India           588.3216     40.623     14.483      0.000     508.690     667.953\n",
      "Airline_Jet Airways        2229.9873     45.586     48.919      0.000    2140.627    2319.348\n",
      "Airline_Multiple carriers  1151.8038     36.275     31.752      0.000    1080.694    1222.913\n",
      "Airline_SpiceJet            103.1177     35.546      2.901      0.004      33.438     172.797\n",
      "Airline_Vistara             379.3276     31.884     11.897      0.000     316.826     441.829\n",
      "Source_Mumbai              -200.3601     16.557    -12.101      0.000    -232.817    -167.903\n",
      "Destination_Delhi          -338.1557     36.059     -9.378      0.000    -408.842    -267.469\n",
      "Destination_Hyderabad      -200.3601     16.557    -12.101      0.000    -232.817    -167.903\n",
      "Destination_New Delhi       579.4045     31.430     18.434      0.000     517.792     641.017\n",
      "==============================================================================\n",
      "Omnibus:                     1516.051   Durbin-Watson:                   2.015\n",
      "Prob(Omnibus):                  0.000   Jarque-Bera (JB):             5128.236\n",
      "Skew:                           1.010   Prob(JB):                         0.00\n",
      "Kurtosis:                       6.519   Cond. No.                     1.80e+15\n",
      "==============================================================================\n",
      "\n",
      "Notes:\n",
      "[1] Standard Errors assume that the covariance matrix of the errors is correctly specified.\n",
      "[2] The smallest eigenvalue is 7.92e-27. This might indicate that there are\n",
      "strong multicollinearity problems or that the design matrix is singular.\n"
     ]
    }
   ],
   "source": [
    "MLR_full_model = sm.OLS(y_train, X_train).fit()\n",
    "print(MLR_full_model.summary())"
   ]
  },
  {
   "cell_type": "markdown",
   "id": "5988fc33",
   "metadata": {},
   "source": [
    "### Handling Multicolinearity"
   ]
  },
  {
   "cell_type": "code",
   "execution_count": 20,
   "id": "ca567032",
   "metadata": {},
   "outputs": [
    {
     "name": "stdout",
     "output_type": "stream",
     "text": [
      "    VIF_Factor                   Features\n",
      "0     1.000000                      const\n",
      "1     2.863987                Total_Stops\n",
      "2     1.330843            Additional_Info\n",
      "3     1.099245                        Day\n",
      "4     1.104419                      Month\n",
      "5     1.057002            Arrival_Time_hr\n",
      "6     1.083469           Arrival_Time_min\n",
      "7     1.050038                Dep_Time_hr\n",
      "8     2.567592             Total_Duration\n",
      "9     1.865182          Airline_Air India\n",
      "10    2.355902        Airline_Jet Airways\n",
      "11    1.491488  Airline_Multiple carriers\n",
      "12    1.426236           Airline_SpiceJet\n",
      "13    1.189763            Airline_Vistara\n",
      "14    1.453059          Destination_Delhi\n",
      "15    1.235369      Destination_Hyderabad\n",
      "16    1.105405      Destination_New Delhi\n"
     ]
    }
   ],
   "source": [
    " for ind in range(len(X_signi.columns)):\n",
    "    \n",
    "   \n",
    "    vif = pd.DataFrame()\n",
    "\n",
    "    vif[\"VIF_Factor\"] = [variance_inflation_factor(X_signi.values, i) for i in range(X_signi.shape[1])]\n",
    "\n",
    "  \n",
    "    vif[\"Features\"] = X_signi.columns\n",
    "\n",
    "    multi = vif[vif['VIF_Factor'] > 10]\n",
    "    \n",
    "    if(multi.empty == False):\n",
    "        df_sorted = multi.sort_values(by = 'VIF_Factor', ascending = False)\n",
    "    else:\n",
    "        print(vif)\n",
    "        break\n",
    "    \n",
    " \n",
    "    if (df_sorted.empty == False):\n",
    "        X_signi = X_signi.drop(df_sorted.Features.iloc[0], axis=1)\n",
    "    else:\n",
    "        print(vif)"
   ]
  },
  {
   "cell_type": "code",
   "execution_count": 21,
   "id": "ce94aa37",
   "metadata": {},
   "outputs": [],
   "source": [
    "X_final=X_scaled[vif['Features'].to_list()]"
   ]
  },
  {
   "cell_type": "code",
   "execution_count": 22,
   "id": "1666ce00",
   "metadata": {},
   "outputs": [
    {
     "name": "stdout",
     "output_type": "stream",
     "text": [
      "                            OLS Regression Results                            \n",
      "==============================================================================\n",
      "Dep. Variable:                  Price   R-squared:                       0.641\n",
      "Model:                            OLS   Adj. R-squared:                  0.640\n",
      "Method:                 Least Squares   F-statistic:                     831.0\n",
      "Date:                Sun, 27 Mar 2022   Prob (F-statistic):               0.00\n",
      "Time:                        14:48:12   Log-Likelihood:                -69302.\n",
      "No. Observations:                7477   AIC:                         1.386e+05\n",
      "Df Residuals:                    7460   BIC:                         1.388e+05\n",
      "Df Model:                          16                                         \n",
      "Covariance Type:            nonrobust                                         \n",
      "=============================================================================================\n",
      "                                coef    std err          t      P>|t|      [0.025      0.975]\n",
      "---------------------------------------------------------------------------------------------\n",
      "const                      9041.3409     29.705    304.376      0.000    8983.112    9099.570\n",
      "Total_Stops                1758.0787     50.056     35.122      0.000    1659.954    1856.203\n",
      "Additional_Info            -623.9709     33.680    -18.526      0.000    -689.993    -557.949\n",
      "Day                        -634.6227     31.180    -20.354      0.000    -695.743    -573.502\n",
      "Month                      -233.4624     31.257     -7.469      0.000    -294.735    -172.190\n",
      "Arrival_Time_hr             -98.7658     30.554     -3.233      0.001    -158.660     -38.872\n",
      "Arrival_Time_min             62.1786     30.978      2.007      0.045       1.453     122.905\n",
      "Dep_Time_hr                  87.9249     30.508      2.882      0.004      28.121     147.729\n",
      "Total_Duration               68.4660     47.653      1.437      0.151     -24.948     161.880\n",
      "Airline_Air India           585.0293     40.581     14.417      0.000     505.480     664.579\n",
      "Airline_Jet Airways        2227.3600     45.565     48.884      0.000    2138.041    2316.679\n",
      "Airline_Multiple carriers  1149.3849     36.251     31.706      0.000    1078.322    1220.447\n",
      "Airline_SpiceJet            100.9701     35.527      2.842      0.004      31.327     170.613\n",
      "Airline_Vistara             379.4170     31.888     11.898      0.000     316.908     441.926\n",
      "Destination_Delhi          -334.1348     35.985     -9.285      0.000    -404.675    -263.595\n",
      "Destination_Hyderabad      -402.9702     33.092    -12.177      0.000    -467.839    -338.101\n",
      "Destination_New Delhi       582.2325     31.389     18.549      0.000     520.700     643.765\n",
      "==============================================================================\n",
      "Omnibus:                     1512.902   Durbin-Watson:                   2.015\n",
      "Prob(Omnibus):                  0.000   Jarque-Bera (JB):             5111.772\n",
      "Skew:                           1.008   Prob(JB):                         0.00\n",
      "Kurtosis:                       6.513   Cond. No.                         3.45\n",
      "==============================================================================\n",
      "\n",
      "Notes:\n",
      "[1] Standard Errors assume that the covariance matrix of the errors is correctly specified.\n"
     ]
    }
   ],
   "source": [
    "X_train, X_test, y_train, y_test=train_test_split(X_final,Y,random_state=1,test_size=0.30)\n",
    "MLR_full_model = sm.OLS(y_train, X_train).fit()\n",
    "print(MLR_full_model.summary())"
   ]
  },
  {
   "cell_type": "markdown",
   "id": "d3f90ece",
   "metadata": {},
   "source": [
    "### Model Evaluation"
   ]
  },
  {
   "cell_type": "code",
   "execution_count": 23,
   "id": "51d5c240",
   "metadata": {},
   "outputs": [
    {
     "name": "stdout",
     "output_type": "stream",
     "text": [
      "R-Squared: 0.6405833615333532\n",
      "R-Squared_adjusted: 0.6398124947484382\n"
     ]
    }
   ],
   "source": [
    "y_pred_test = MLR_full_model.predict(X_test)\n",
    "y_pred_train = MLR_full_model.predict(X_train)\n",
    "\n",
    "print('R-Squared:',MLR_full_model.rsquared)\n",
    "\n",
    "print('R-Squared_adjusted:',MLR_full_model.rsquared_adj)"
   ]
  },
  {
   "cell_type": "code",
   "execution_count": 24,
   "id": "a0ec0353",
   "metadata": {},
   "outputs": [
    {
     "name": "stdout",
     "output_type": "stream",
     "text": [
      "Train RMSE:  2564.944431048982\n",
      "Test RMSE:  2464.542350042582\n"
     ]
    }
   ],
   "source": [
    "rmse_train=np.sqrt(mean_squared_error(y_train,y_pred_train))\n",
    "rmse_test=np.sqrt(mean_squared_error(y_test,y_pred_test))\n",
    "\n",
    "print('Train RMSE: ',rmse_train)\n",
    "print('Test RMSE: ',rmse_test)"
   ]
  },
  {
   "cell_type": "code",
   "execution_count": null,
   "id": "227656e6",
   "metadata": {},
   "outputs": [],
   "source": []
  },
  {
   "cell_type": "code",
   "execution_count": 25,
   "id": "748c4fed",
   "metadata": {},
   "outputs": [],
   "source": [
    "X_final=X_final.drop('Total_Duration',axis=1)"
   ]
  },
  {
   "cell_type": "code",
   "execution_count": 26,
   "id": "8cd25ab4",
   "metadata": {},
   "outputs": [
    {
     "name": "stdout",
     "output_type": "stream",
     "text": [
      "                            OLS Regression Results                            \n",
      "==============================================================================\n",
      "Dep. Variable:                  Price   R-squared:                       0.640\n",
      "Model:                            OLS   Adj. R-squared:                  0.640\n",
      "Method:                 Least Squares   F-statistic:                     886.1\n",
      "Date:                Sun, 27 Mar 2022   Prob (F-statistic):               0.00\n",
      "Time:                        14:48:13   Log-Likelihood:                -69303.\n",
      "No. Observations:                7477   AIC:                         1.386e+05\n",
      "Df Residuals:                    7461   BIC:                         1.387e+05\n",
      "Df Model:                          15                                         \n",
      "Covariance Type:            nonrobust                                         \n",
      "=============================================================================================\n",
      "                                coef    std err          t      P>|t|      [0.025      0.975]\n",
      "---------------------------------------------------------------------------------------------\n",
      "const                      9041.4429     29.707    304.359      0.000    8983.210    9099.676\n",
      "Total_Stops                1797.9286     41.672     43.145      0.000    1716.239    1879.618\n",
      "Additional_Info            -622.5364     33.668    -18.491      0.000    -688.534    -556.538\n",
      "Day                        -635.4685     31.176    -20.383      0.000    -696.583    -574.354\n",
      "Month                      -233.9815     31.257     -7.486      0.000    -295.254    -172.709\n",
      "Arrival_Time_hr             -98.4716     30.555     -3.223      0.001    -158.368     -38.575\n",
      "Arrival_Time_min             62.3210     30.980      2.012      0.044       1.591     123.051\n",
      "Dep_Time_hr                  88.4575     30.508      2.899      0.004      28.653     148.262\n",
      "Airline_Air India           599.1999     39.367     15.221      0.000     522.030     676.369\n",
      "Airline_Jet Airways        2244.9189     43.898     51.139      0.000    2158.866    2330.972\n",
      "Airline_Multiple carriers  1150.2453     36.249     31.732      0.000    1079.187    1221.303\n",
      "Airline_SpiceJet            100.4018     35.527      2.826      0.005      30.758     170.046\n",
      "Airline_Vistara             387.8290     31.348     12.372      0.000     326.378     449.280\n",
      "Destination_Delhi          -339.5270     35.791     -9.486      0.000    -409.687    -269.367\n",
      "Destination_Hyderabad      -409.2893     32.800    -12.478      0.000    -473.587    -344.991\n",
      "Destination_New Delhi       580.3062     31.363     18.503      0.000     518.826     641.787\n",
      "==============================================================================\n",
      "Omnibus:                     1497.406   Durbin-Watson:                   2.015\n",
      "Prob(Omnibus):                  0.000   Jarque-Bera (JB):             5024.132\n",
      "Skew:                           1.000   Prob(JB):                         0.00\n",
      "Kurtosis:                       6.482   Cond. No.                         2.99\n",
      "==============================================================================\n",
      "\n",
      "Notes:\n",
      "[1] Standard Errors assume that the covariance matrix of the errors is correctly specified.\n"
     ]
    }
   ],
   "source": [
    "X_train, X_test, y_train, y_test=train_test_split(X_final,Y,random_state=1,test_size=0.30)\n",
    "MLR_full_model = sm.OLS(y_train, X_train).fit()\n",
    "print(MLR_full_model.summary())"
   ]
  },
  {
   "cell_type": "code",
   "execution_count": 46,
   "id": "6bf04d43",
   "metadata": {},
   "outputs": [
    {
     "name": "stdout",
     "output_type": "stream",
     "text": [
      "Train RMSE:  2565.2992780518757\n",
      "Test RMSE:  2465.8271647838073\n"
     ]
    }
   ],
   "source": [
    "y_pred_test = MLR_full_model.predict(X_test)\n",
    "y_pred_train = MLR_full_model.predict(X_train)\n",
    "rmse_train=np.sqrt(mean_squared_error(y_train,y_pred_train))\n",
    "rmse_test=np.sqrt(mean_squared_error(y_test,y_pred_test))\n",
    "print('Train RMSE: ',rmse_train)\n",
    "print('Test RMSE: ',rmse_test)"
   ]
  },
  {
   "cell_type": "code",
   "execution_count": null,
   "id": "4606fbda",
   "metadata": {},
   "outputs": [],
   "source": []
  },
  {
   "cell_type": "code",
   "execution_count": null,
   "id": "d7d5e55b",
   "metadata": {},
   "outputs": [],
   "source": []
  },
  {
   "cell_type": "code",
   "execution_count": null,
   "id": "c4a7b7e6",
   "metadata": {},
   "outputs": [],
   "source": []
  },
  {
   "cell_type": "code",
   "execution_count": 51,
   "id": "859e1b5c",
   "metadata": {},
   "outputs": [
    {
     "name": "stdout",
     "output_type": "stream",
     "text": [
      "R-squared:  0.6383222010327515\n"
     ]
    }
   ],
   "source": [
    "scores = cross_val_score(estimator = LinearRegression(), \n",
    "                         X = X_train, \n",
    "                         y = y_train, \n",
    "                         cv = 5, \n",
    "                         scoring = 'r2')\n",
    "\n",
    "print('R-squared: ',np.mean(scores))"
   ]
  },
  {
   "cell_type": "markdown",
   "id": "71e2580c",
   "metadata": {},
   "source": [
    "### ElasticNet Regularization"
   ]
  },
  {
   "cell_type": "code",
   "execution_count": 30,
   "id": "f8e358cc",
   "metadata": {},
   "outputs": [],
   "source": [
    "enet = ElasticNet(alpha = 0.1, l1_ratio = 0.01, max_iter = 500)\n",
    "EN_Model=enet.fit(X_train, y_train)"
   ]
  },
  {
   "cell_type": "code",
   "execution_count": 53,
   "id": "44f4a659",
   "metadata": {},
   "outputs": [
    {
     "name": "stdout",
     "output_type": "stream",
     "text": [
      "Train RMSE :  2565.299336660045\n",
      "Test RMSE :  2465.8251820016612\n"
     ]
    }
   ],
   "source": [
    "rmse_train_EN=np.sqrt(mean_squared_error(y_train,EN_Model.predict(X_train)))\n",
    "rmse_test_EN=np.sqrt(mean_squared_error(y_test,EN_Model.predict(X_test)))\n",
    "\n",
    "print('Train RMSE : ',rmse_train_EN)\n",
    "print('Test RMSE : ',rmse_test_EN)"
   ]
  },
  {
   "cell_type": "code",
   "execution_count": 34,
   "id": "aa118b6e",
   "metadata": {},
   "outputs": [
    {
     "data": {
      "text/plain": [
       "0.6330327559921738"
      ]
     },
     "execution_count": 34,
     "metadata": {},
     "output_type": "execute_result"
    }
   ],
   "source": [
    "r_sq = EN_Model.score(X_train, y_train)\n",
    "\n",
    "r_sq"
   ]
  },
  {
   "cell_type": "code",
   "execution_count": 35,
   "id": "95b74931",
   "metadata": {},
   "outputs": [
    {
     "name": "stdout",
     "output_type": "stream",
     "text": [
      "R_square : 0.6404838913029793\n",
      "2565.299336660045\n",
      "2465.8251820016612\n"
     ]
    }
   ],
   "source": [
    "enet = ElasticNet(alpha = 0.1, l1_ratio =1 , max_iter = 500)\n",
    "EN_Model=enet.fit(X_train, y_train)\n",
    "\n",
    "rmse_train_EN=np.sqrt(mean_squared_error(y_train,EN_Model.predict(X_train)))\n",
    "rmse_test_EN=np.sqrt(mean_squared_error(y_test,EN_Model.predict(X_test)))\n",
    "\n",
    "print('R_square :',EN_Model.score(X_train, y_train))\n",
    "print(rmse_train_EN)\n",
    "print(rmse_test_EN)"
   ]
  },
  {
   "cell_type": "code",
   "execution_count": null,
   "id": "e99c9800",
   "metadata": {},
   "outputs": [],
   "source": []
  },
  {
   "cell_type": "markdown",
   "id": "5c65f647",
   "metadata": {},
   "source": [
    "### KNN Regression"
   ]
  },
  {
   "cell_type": "code",
   "execution_count": 54,
   "id": "37e21e23",
   "metadata": {},
   "outputs": [
    {
     "name": "stdout",
     "output_type": "stream",
     "text": [
      "RMSE value for k= 1 is: 2207.4820726547346\n",
      "RMSE value for k= 2 is: 1988.242054371316\n",
      "RMSE value for k= 3 is: 1860.8455804442694\n",
      "RMSE value for k= 4 is: 1822.9555465420672\n",
      "RMSE value for k= 5 is: 1804.8432873193149\n",
      "RMSE value for k= 6 is: 1807.9954776182058\n",
      "RMSE value for k= 7 is: 1812.952669517228\n",
      "RMSE value for k= 8 is: 1817.0285029850527\n",
      "RMSE value for k= 9 is: 1827.9422885816193\n",
      "RMSE value for k= 10 is: 1838.787827853642\n",
      "RMSE value for k= 11 is: 1843.1854281399487\n",
      "RMSE value for k= 12 is: 1849.51180174351\n",
      "RMSE value for k= 13 is: 1856.4373538103173\n",
      "RMSE value for k= 14 is: 1875.402460695889\n",
      "RMSE value for k= 15 is: 1882.1056206428295\n",
      "RMSE value for k= 16 is: 1889.0323716968803\n",
      "RMSE value for k= 17 is: 1893.214310084688\n",
      "RMSE value for k= 18 is: 1904.4494000235989\n",
      "RMSE value for k= 19 is: 1912.6309878877457\n",
      "RMSE value for k= 20 is: 1922.6027054987485\n"
     ]
    }
   ],
   "source": [
    "wcss = [] \n",
    "for K in range(20):\n",
    "    K = K+1\n",
    "    model = neighbors.KNeighborsRegressor(n_neighbors = K)\n",
    "\n",
    "    model.fit(X_train, y_train)  \n",
    "    pred=model.predict(X_test) \n",
    "    error = sqrt(mean_squared_error(y_test,pred)) #calculate rmse\n",
    "    wcss.append(error) #store rmse values\n",
    "    print('RMSE value for k=' , K , 'is:', error)"
   ]
  },
  {
   "cell_type": "code",
   "execution_count": 55,
   "id": "6bd8b3c2",
   "metadata": {},
   "outputs": [
    {
     "data": {
      "text/plain": [
       "<AxesSubplot:>"
      ]
     },
     "execution_count": 55,
     "metadata": {},
     "output_type": "execute_result"
    },
    {
     "data": {
      "image/png": "[encoded data removed]",
      "text/plain": [
       "<Figure size 432x288 with 1 Axes>"
      ]
     },
     "metadata": {
      "needs_background": "light"
     },
     "output_type": "display_data"
    }
   ],
   "source": [
    "curve = pd.DataFrame(wcss) #elbow curve \n",
    "curve.plot()"
   ]
  },
  {
   "cell_type": "code",
   "execution_count": 56,
   "id": "4fa3ccf9",
   "metadata": {},
   "outputs": [],
   "source": [
    "from sklearn.model_selection import GridSearchCV"
   ]
  },
  {
   "cell_type": "code",
   "execution_count": 57,
   "id": "114b4031",
   "metadata": {},
   "outputs": [
    {
     "data": {
      "text/plain": [
       "{'n_neighbors': 5}"
      ]
     },
     "execution_count": 57,
     "metadata": {},
     "output_type": "execute_result"
    }
   ],
   "source": [
    "params = {'n_neighbors':[2,3,4,5,6,7,8,9]}\n",
    "\n",
    "knn = neighbors.KNeighborsRegressor()\n",
    "\n",
    "model = GridSearchCV(knn, params, cv=5)\n",
    "model.fit(X_train,y_train)\n",
    "model.best_params_"
   ]
  },
  {
   "cell_type": "code",
   "execution_count": 59,
   "id": "c5f5c242",
   "metadata": {},
   "outputs": [
    {
     "data": {
      "text/plain": [
       "KNeighborsRegressor()"
      ]
     },
     "execution_count": 59,
     "metadata": {},
     "output_type": "execute_result"
    }
   ],
   "source": [
    "knn = neighbors.KNeighborsRegressor(n_neighbors=5)\n",
    "knn.fit(X_train,y_train)"
   ]
  },
  {
   "cell_type": "code",
   "execution_count": 60,
   "id": "b8d8acb2",
   "metadata": {},
   "outputs": [
    {
     "data": {
      "text/plain": [
       "0.8712107948109087"
      ]
     },
     "execution_count": 60,
     "metadata": {},
     "output_type": "execute_result"
    }
   ],
   "source": [
    "knn.score(X_train,y_train)"
   ]
  },
  {
   "cell_type": "code",
   "execution_count": 61,
   "id": "585f716d",
   "metadata": {},
   "outputs": [
    {
     "data": {
      "text/plain": [
       "0.8169124440943016"
      ]
     },
     "execution_count": 61,
     "metadata": {},
     "output_type": "execute_result"
    }
   ],
   "source": [
    "knn.score(X_test,y_test)"
   ]
  },
  {
   "cell_type": "code",
   "execution_count": 62,
   "id": "0da48c0a",
   "metadata": {},
   "outputs": [
    {
     "name": "stdout",
     "output_type": "stream",
     "text": [
      "Train RMSE : 1535.3896302896069\n",
      "Test RMSE : 1804.8432873193149\n"
     ]
    }
   ],
   "source": [
    "rmse_train_knn=np.sqrt(mean_squared_error(y_train,knn.predict(X_train)))\n",
    "rmse_test_knn=np.sqrt(mean_squared_error(y_test,knn.predict(X_test)))\n",
    "\n",
    "print('Train RMSE :',rmse_train_knn)\n",
    "print('Test RMSE :',rmse_test_knn)"
   ]
  },
  {
   "cell_type": "code",
   "execution_count": null,
   "id": "745b85d1",
   "metadata": {},
   "outputs": [],
   "source": []
  }
 ],
 "metadata": {
  "kernelspec": {
   "display_name": "Python 3",
   "language": "python",
   "name": "python3"
  },
  "language_info": {
   "codemirror_mode": {
    "name": "ipython",
    "version": 3
   },
   "file_extension": ".py",
   "mimetype": "text/x-python",
   "name": "python",
   "nbconvert_exporter": "python",
   "pygments_lexer": "ipython3",
   "version": "3.8.8"
  }
 },
 "nbformat": 4,
 "nbformat_minor": 5
}
